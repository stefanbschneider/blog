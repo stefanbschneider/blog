{
  "cells": [
    {
      "cell_type": "raw",
      "id": "3c4a832b",
      "metadata": {
        "vscode": {
          "languageId": "raw"
        }
      },
      "source": [
        "---\n",
        "categories:\n",
        "- transformer\n",
        "- llm\n",
        "- machine learning\n",
        "- HuggingFace\n",
        "date: '2025-01-11'\n",
        "date-modified: '2025-01-11'\n",
        "title: Generative Document Question Answering with HuggingFace\n",
        "description: Generating answers about a given document/article using pre-trained models on HuggingFace.\n",
        "image: images/hf-logo-with-title.png\n",
        "---"
      ]
    },
    {
      "cell_type": "markdown",
      "id": "294d36c7",
      "metadata": {},
      "source": [
        "# Extractive Question Answering\n",
        "\n",
        "In a [previous blog post](https://stefanbschneider.github.io/blog/posts/question-answering-huggingface/), I showed how answer document-related questions with [HuggingFace](https://huggingface.co/) LLMs in just a few lines of Python code and visualize them as simple [Gradio App](https://www.gradio.app/).\n",
        "\n",
        "In that blog post, I used the standard question-answering pipeline from HuggingFace.\n",
        "This pipeline defaults to a DistilBERT model (a smaller BERT model) fine-tuned on the Stanford Question Answering Dataset (SQuAD).\n",
        "[This model](https://huggingface.co/distilbert/distilbert-base-cased-distilled-squad) and dataset are meant for *extractive* question answering as illustrated in the following example:"
      ]
    },
    {
      "cell_type": "code",
      "execution_count": 1,
      "id": "c066d39f",
      "metadata": {},
      "outputs": [],
      "source": [
        "%%capture --no-display\n",
        "pip install -U pypdf torch transformers"
      ]
    },
    {
      "cell_type": "code",
      "execution_count": 2,
      "id": "85f89229",
      "metadata": {},
      "outputs": [
        {
          "name": "stderr",
          "output_type": "stream",
          "text": [
            "No model was supplied, defaulted to distilbert/distilbert-base-cased-distilled-squad and revision 564e9b5 (https://huggingface.co/distilbert/distilbert-base-cased-distilled-squad).\n",
            "Using a pipeline without specifying a model name and revision in production is not recommended.\n",
            "Device set to use mps:0\n"
          ]
        },
        {
          "data": {
            "text/plain": [
              "{'score': 0.4559027850627899,\n",
              " 'start': 287,\n",
              " 'end': 302,\n",
              " 'answer': 'the Transformer'}"
            ]
          },
          "execution_count": 2,
          "metadata": {},
          "output_type": "execute_result"
        }
      ],
      "source": [
        "from transformers import pipeline\n",
        "\n",
        "extractive_qa = pipeline(task=\"question-answering\")\n",
        "\n",
        "# Abstract from \"Attention is all you need\" by Vaswani et al.: https://arxiv.org/abs/1706.03762\n",
        "abstract = \"\"\"The dominant sequence transduction models are based on complex recurrent or\n",
        "convolutional neural networks that include an encoder and a decoder. The best\n",
        "performing models also connect the encoder and decoder through an attention\n",
        "mechanism. We propose a new simple network architecture, the Transformer,\n",
        "based solely on attention mechanisms, dispensing with recurrence and convolutions\n",
        "entirely. Experiments on two machine translation tasks show these models to\n",
        "be superior in quality while being more parallelizable and requiring significantly\n",
        "less time to train. Our model achieves 28.4 BLEU on the WMT 2014 Englishto-German translation task...\n",
        "\"\"\"\n",
        "question = \"What's a transformer'?\"\n",
        "\n",
        "extractive_qa(question=question, context=abstract)"
      ]
    },
    {
      "cell_type": "markdown",
      "id": "0428117d",
      "metadata": {},
      "source": [
        "The pipeline is given a text as input, here parts of the \"Attention is all you need\" abstract (see [arxiv](https://arxiv.org/abs/1706.03762)),\n",
        "and a question that should be answered based on the given text/context.\n",
        "\n",
        "Rather than an answer in natural language, the model outputs an excerpt that is extraced from the original context, given by a start- and end-index within.\n",
        "While this allows concise answers with clear reference to the original source, the answers are not very natural or accurate.\n",
        "The model has no way of combining and merging information from different places of the original text since it can only return a single contiguous excerpt.\n",
        "\n",
        "In the example above, I asked what a transformer is and the model simply answered \"the Transformer\". Not very helpful! (Note that the answer may be slightly different in the future, since I did not pin a model and model version in the pipeline.)\n",
        "\n",
        "Even passing the entire article into the model as context, does not improve the answer - it still only outputs \"Transformer\" as answer."
      ]
    },
    {
      "cell_type": "code",
      "execution_count": 3,
      "id": "3f263454",
      "metadata": {},
      "outputs": [
        {
          "name": "stdout",
          "output_type": "stream",
          "text": [
            "Provided proper attribution is provided, Google hereby grants permission to\n",
            "reproduce the tables and figures in this paper solely for use in journalistic or\n",
            "scholarly works.\n",
            "Attention Is All You Need\n",
            "Ashish Vaswani∗\n",
            "Google Brain\n",
            "avaswani@google.com\n",
            "Noam Shazeer∗\n",
            "Google Brain\n",
            "noam@google.com\n",
            "Niki Par\n"
          ]
        }
      ],
      "source": [
        "# Read PDF\n",
        "from pathlib import Path\n",
        "from typing import Union\n",
        "from pypdf import PdfReader\n",
        "\n",
        "\n",
        "def get_text_from_pdf(pdf_file: Union[str, Path]) -> str:\n",
        "    \"\"\"Read the PDF from the given path and return a string with its entire content.\"\"\"\n",
        "    reader = PdfReader(pdf_file)\n",
        "    # Extract text from all pages\n",
        "    full_text = \"\"\n",
        "    for page in reader.pages:\n",
        "        full_text += page.extract_text()\n",
        "    return full_text\n",
        "\n",
        "\n",
        "# Read in the full article downloaded from https://arxiv.org/abs/1706.03762\n",
        "full_article = get_text_from_pdf(\"transformer-paper.pdf\")\n",
        "# Print first few characters of the paper\n",
        "print(full_article[:300])"
      ]
    },
    {
      "cell_type": "code",
      "execution_count": 4,
      "id": "e8529da5",
      "metadata": {},
      "outputs": [
        {
          "data": {
            "text/plain": [
              "{'score': 0.20687614381313324,\n",
              " 'start': 22735,\n",
              " 'end': 22746,\n",
              " 'answer': 'Transformer'}"
            ]
          },
          "execution_count": 4,
          "metadata": {},
          "output_type": "execute_result"
        }
      ],
      "source": [
        "# Try to answer the same question as before with the full article as context\n",
        "extractive_qa(question=question, context=full_article)"
      ]
    },
    {
      "cell_type": "markdown",
      "id": "120449bb",
      "metadata": {},
      "source": [
        "# Generative Question Answering\n",
        "\n",
        "As shown above, *extractive* question answering is about answering a question by providing an excerpt from the given context.\n",
        "In contrast, *generative* or *abstractive* question answering (Q&A) provides generated answers that do not directly reference any parts of the original context.\n",
        "\n",
        "Such generated answers often sound more natural and can be more useful. On the other hand, there is no clear link to the original source and the answer may be just a hallucination of the model.\n",
        "\n",
        "In the following, I try to build a *generative* Q&A pipeline.\n",
        "While encoder-only models like BERT are best for extractive Q&A, encoder-decoder or decoder-only models are better suited to generate natural answers for generative Q&A.\n",
        "\n",
        "## Existing Models for Generative Q&A\n",
        "\n",
        "Let's use an existing encoder-decoder model from HuggingFace to try generative Q&A, e.g., the [FLAN-T5](https://huggingface.co/google/flan-t5-base).\n",
        "In comparison to the normal T5 model, the FLAN-T5 was fine-tuned on more downstream tasks:\n",
        "\n",
        "> If you already know T5, FLAN-T5 is just better at everything. For the same number of parameters, these models have been fine-tuned on more than 1000 additional tasks covering also more languages\n",
        "\n",
        "HuggingFace does not have a pre-defined \"generative Q&A\" pipeline task, instead this belongs to \"Text2Text Generation\" as the input consists of the context and questions and the output is the generated answer.\n",
        "\n",
        "The following code uses the FLAN-T5 model to generate an answer based on the full \"Attention is all you need\" article for the same question as above: What's a transformer?"
      ]
    },
    {
      "cell_type": "code",
      "execution_count": 5,
      "id": "4edbee1b",
      "metadata": {},
      "outputs": [
        {
          "name": "stderr",
          "output_type": "stream",
          "text": [
            "Device set to use mps:0\n",
            "Token indices sequence length is longer than the specified maximum sequence length for this model (10385 > 512). Running this sequence through the model will result in indexing errors\n"
          ]
        },
        {
          "data": {
            "text/plain": [
              "[{'generated_text': 'a model architecture relying entirely on self-attention to compute representations of its input and'}]"
            ]
          },
          "execution_count": 5,
          "metadata": {},
          "output_type": "execute_result"
        }
      ],
      "source": [
        "generative_qa_t5 = pipeline(task=\"text2text-generation\", model=\"google/flan-t5-base\")\n",
        "input_text = f\"{full_article} Given this context, please answer the following question. {question}\"\n",
        "generative_qa_t5(input_text)"
      ]
    },
    {
      "cell_type": "markdown",
      "id": "cf88d941",
      "metadata": {},
      "source": [
        "\"a model architecture relying entirely on self-attention to compute representations of its input and\" \n",
        "\n",
        "Not bad! The sentence ends out of nowhere, but this *generated* answer still makes sense. \n",
        "Much more so than the *extracted* answer above.\n",
        "\n",
        "\n",
        "## Dealing with Limited Sequence Length\n",
        "\n",
        "While the answer was good, there was a warning in the output of the pipeline above:\n",
        "\n",
        "```\n",
        "Token indices sequence length is longer than the specified maximum sequence length for this model (10385 > 512).\n",
        "````\n",
        "\n",
        "The configured FLAN-T5 model can only handle input sequences of maximum 512 tokens.\n",
        "The full research article is much longer (a bit more than 10k tokens).\n",
        "\n",
        "Apparently, the HuggingFace `pipeline` already has some built-in mechanism to handle these overly long sequences,\n",
        "such that the model still output a sensible answer and did not crash despite the sequence being too long.\n",
        "\n",
        "### Splitting the Sequence into Shorter Parts\n",
        "\n",
        "A simple approach to handle such overly long sequences is to split them into smaller parts that fit into the model's maximum sequence length.\n",
        "Let's split the full text into 20 parts, such that each part has at most 512 tokens.\n"
      ]
    },
    {
      "cell_type": "code",
      "execution_count": 76,
      "id": "c4a81aeb",
      "metadata": {},
      "outputs": [
        {
          "name": "stdout",
          "output_type": "stream",
          "text": [
            "[{'generated_text': 'based solely on attention mechanisms'}]\n",
            "[{'generated_text': 'tensor2tensor'}]\n",
            "[{'generated_text': 'a model architecture eschewing recurrence and instead relying entirely on'}]\n",
            "[{'generated_text': 'first transduction model relying entirely on self-attention to compute representations of its input and'}]\n",
            "[{'generated_text': 'a decoder'}]\n",
            "[{'generated_text': 'a single attention head'}]\n",
            "[{'generated_text': 'encoder-decoder attention mechanisms'}]\n",
            "[{'generated_text': 'encoder and decoder stacks'}]\n",
            "[{'generated_text': 'encoder or decoder'}]\n",
            "[{'generated_text': 'self-attention layer'}]\n",
            "[{'generated_text': 'regularization'}]\n",
            "[{'generated_text': 'transformer'}]\n",
            "[{'generated_text': 'translation'}]\n",
            "[{'generated_text': 'transformer'}]\n",
            "[{'generated_text': 'attention-based model'}]\n",
            "[{'generated_text': 'tensorflow'}]\n",
            "[{'generated_text': 'LSTM networks'}]\n",
            "[{'generated_text': 'neural machine translation'}]\n",
            "[{'generated_text': '[34]'}]\n",
            "[{'generated_text': 'a syst'}]\n"
          ]
        }
      ],
      "source": [
        "# Split the full text into parts and use them separately for answering the question.\n",
        "def split_text_into_parts(full_text: str, num_parts: int) -> list[str]:\n",
        "    \"\"\"Split the given full text into a list of equally sized parts.\"\"\"\n",
        "    len_per_part: int = int(len(full_text) / num_parts)\n",
        "    return [full_text[i * len_per_part : (i+1) * len_per_part] for i in range(num_parts)]\n",
        "\n",
        "text_parts = split_text_into_parts(full_article, num_parts=20)\n",
        "for text_part in text_parts:\n",
        "    input_text = f\"{text_part} Given this context, please answer the following question. {question}\"\n",
        "    print(generative_qa_t5(input_text))"
      ]
    },
    {
      "cell_type": "markdown",
      "id": "f2707032",
      "metadata": {},
      "source": [
        "Having split the text into 20 parts, we now get 20 answers. \n",
        "Some of them are more useful than others since these parts of the text apparently contain more useful information.\n",
        "Answer 4 sounds very similar to the one provided by the `pipeline` when passing in the whole article:\n",
        "\"first transduction model relying entirely on self-attention to compute representations of its input and\"\n",
        "\n",
        "It seems like, under the hood, the HuggingFace pipeline also splits the full text into multiple parts, applying the model to each one.\n",
        "Likely, they use a more sophisticated way of splitting the parts with overlaps such that no information is lost at the boundaries between two parts.\n",
        "\n",
        "To select the best out of all the provided answers, one could compute a score for each answer based on the average per-token score in the generated answer.\n",
        "\n",
        "\n",
        "### Using A Model with Long Sequence Length\n",
        "\n",
        "An alternative to splitting a long sequence into smaller parts is to simply use another model with a longer supported sequence length, for example the [Long-T5 model](google/long-t5-local-base).\n"
      ]
    },
    {
      "cell_type": "code",
      "execution_count": 78,
      "id": "faa798e6",
      "metadata": {},
      "outputs": [
        {
          "name": "stderr",
          "output_type": "stream",
          "text": [
            "Some weights of LongT5ForConditionalGeneration were not initialized from the model checkpoint at google/long-t5-local-base and are newly initialized: ['lm_head.weight']\n",
            "You should probably TRAIN this model on a down-stream task to be able to use it for predictions and inference.\n"
          ]
        },
        {
          "data": {
            "application/vnd.jupyter.widget-view+json": {
              "model_id": "a8c7654a404245aba3b283f045269ec7",
              "version_major": 2,
              "version_minor": 0
            },
            "text/plain": [
              "generation_config.json:   0%|          | 0.00/147 [00:00<?, ?B/s]"
            ]
          },
          "metadata": {},
          "output_type": "display_data"
        },
        {
          "name": "stderr",
          "output_type": "stream",
          "text": [
            "Device set to use mps:0\n",
            "/opt/homebrew/Caskroom/miniforge/base/envs/llm/lib/python3.12/site-packages/torch/nn/functional.py:5096: UserWarning: MPS: The constant padding of more than 3 dimensions is not currently supported natively. It uses View Ops default implementation to run. This may have performance implications. (Triggered internally at /Users/runner/work/pytorch/pytorch/pytorch/aten/src/ATen/native/mps/operations/Pad.mm:465.)\n",
            "  return torch._C._nn.pad(input, pad, mode, value)\n"
          ]
        },
        {
          "data": {
            "text/plain": [
              "[{'generated_text': 'formation formation trains trains trains trains rebuild Destin formationpartnered 1941 1941 nouveaux formation formation formation formationassemblée Lin Lin'}]"
            ]
          },
          "execution_count": 78,
          "metadata": {},
          "output_type": "execute_result"
        }
      ],
      "source": [
        "generative_qa_long_t5 = pipeline(task=\"text2text-generation\", model=\"google/long-t5-local-base\")\n",
        "input_text = f\"{full_article} Given this context, please answer the following question. {question}\"\n",
        "generative_qa_long_t5(input_text)"
      ]
    },
    {
      "cell_type": "markdown",
      "id": "63512fe6",
      "metadata": {},
      "source": [
        "As you can see, the new model does not complain about the sequence being too long.\n",
        "Instead, it outputs a warning because the model is not fine-tuned for any downstream tasks such as Q&A.\n",
        "As a result, the generated answer is rubbish.\n",
        "\n",
        "For better results, we should fine-tune the model on a Q&A dataset (such as [DuoRC](https://huggingface.co/datasets/ibm/duorc)).\n",
        "In addition to the Long-T5, there are other models that focus explicitly on long sequence lengths, e.g., the [Longformer](https://huggingface.co/docs/transformers/en/model_doc/longformer) and it's encoder-decoder variant [LED (Longformer Encoder-Decoder)](https://huggingface.co/docs/transformers/en/model_doc/led), which is more useful for generative Q&A.\n",
        "\n",
        "I plan to dive deeper into long sequence lengths in a future blog post.\n",
        "\n",
        "## What's Next?\n",
        "\n",
        "- Read some of my related blog posts:\n",
        "    - [Building a Simple Question Answering App with HuggingFace](https://stefanbschneider.github.io/blog/posts/question-answering-huggingface/)\n",
        "    - [Understanding Transformers and Attention](https://stefanbschneider.github.io/blog/posts/understanding-transformers-attention/)\n",
        "- Fine-tune a long-sequence model for generative Q&A\n",
        "\n"
      ]
    }
  ],
  "metadata": {
    "kernelspec": {
      "display_name": "llm",
      "language": "python",
      "name": "python3"
    },
    "language_info": {
      "codemirror_mode": {
        "name": "ipython",
        "version": 3
      },
      "file_extension": ".py",
      "mimetype": "text/x-python",
      "name": "python",
      "nbconvert_exporter": "python",
      "pygments_lexer": "ipython3",
      "version": "3.12.3"
    }
  },
  "nbformat": 4,
  "nbformat_minor": 5
}
